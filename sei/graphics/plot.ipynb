{
 "cells": [
  {
   "cell_type": "markdown",
   "id": "preceding-criminal",
   "metadata": {},
   "source": [
    "<div style=\"color:#8b1538; font-size:32px;\">Graphic representation using matplotlib and seaborn</div>"
   ]
  },
  {
   "cell_type": "code",
   "execution_count": 1,
   "id": "prostate-shareware",
   "metadata": {},
   "outputs": [],
   "source": [
    "import os\n",
    "\n",
    "import matplotlib.pyplot as plt\n",
    "import numpy as np\n",
    "import pandas as pd\n",
    "import seaborn as sns"
   ]
  },
  {
   "cell_type": "markdown",
   "id": "senior-spotlight",
   "metadata": {},
   "source": [
    "<br>"
   ]
  },
  {
   "cell_type": "markdown",
   "id": "raising-income",
   "metadata": {},
   "source": [
    "# SNPs distribution"
   ]
  },
  {
   "cell_type": "markdown",
   "id": "annoying-medline",
   "metadata": {},
   "source": [
    "> Load data"
   ]
  },
  {
   "cell_type": "code",
   "execution_count": 4,
   "id": "classical-technical",
   "metadata": {},
   "outputs": [],
   "source": [
    "def load_data(model):\n",
    "    # Path data\n",
    "    path_data = \"../../Data/Msprime/snp_distribution/sfs_{}/\".format(model)\n",
    "    \n",
    "    data = pd.read_json(path_or_buf=\"{}SFS_{}-all.json\".format(path_data, model), typ='frame')\n",
    "    \n",
    "    return data"
   ]
  },
  {
   "cell_type": "code",
   "execution_count": 14,
   "id": "parental-sauce",
   "metadata": {},
   "outputs": [],
   "source": [
    "sfs_decline = load_data(\"decline\")"
   ]
  },
  {
   "cell_type": "code",
   "execution_count": 15,
   "id": "disabled-spencer",
   "metadata": {},
   "outputs": [
    {
     "data": {
      "text/html": [
       "<div>\n",
       "<style scoped>\n",
       "    .dataframe tbody tr th:only-of-type {\n",
       "        vertical-align: middle;\n",
       "    }\n",
       "\n",
       "    .dataframe tbody tr th {\n",
       "        vertical-align: top;\n",
       "    }\n",
       "\n",
       "    .dataframe thead th {\n",
       "        text-align: right;\n",
       "    }\n",
       "</style>\n",
       "<table border=\"1\" class=\"dataframe\">\n",
       "  <thead>\n",
       "    <tr style=\"text-align: right;\">\n",
       "      <th></th>\n",
       "      <th>Parameters</th>\n",
       "      <th>SNPs</th>\n",
       "      <th>SFS</th>\n",
       "      <th>Time</th>\n",
       "    </tr>\n",
       "  </thead>\n",
       "  <tbody>\n",
       "    <tr>\n",
       "      <th>0</th>\n",
       "      <td>{'Tau': 0.015848931900000002, 'Kappa': 0.10471...</td>\n",
       "      <td>[13, 20]</td>\n",
       "      <td>[[7, 4, 2, 0, 0, 0, 0, 0, 0, 0, 0, 0, 0, 0, 0,...</td>\n",
       "      <td>0.0062</td>\n",
       "    </tr>\n",
       "    <tr>\n",
       "      <th>1</th>\n",
       "      <td>{'Tau': 0.0003981072, 'Kappa': 0.4570881896, '...</td>\n",
       "      <td>[48, 62]</td>\n",
       "      <td>[[6, 6, 10, 1, 5, 5, 2, 4, 3, 4, 1, 0, 0, 1, 0...</td>\n",
       "      <td>0.0126</td>\n",
       "    </tr>\n",
       "    <tr>\n",
       "      <th>2</th>\n",
       "      <td>{'Tau': 794.3282347243, 'Kappa': 38.0189396321...</td>\n",
       "      <td>[144, 108]</td>\n",
       "      <td>[[40, 9, 11, 18, 8, 9, 8, 3, 7, 0, 10, 9, 2, 2...</td>\n",
       "      <td>0.0211</td>\n",
       "    </tr>\n",
       "    <tr>\n",
       "      <th>3</th>\n",
       "      <td>{'Tau': 251.188643151, 'Kappa': 0.1047128548, ...</td>\n",
       "      <td>[127, 107]</td>\n",
       "      <td>[[38, 29, 17, 5, 5, 4, 2, 2, 0, 3, 0, 1, 0, 2,...</td>\n",
       "      <td>0.0202</td>\n",
       "    </tr>\n",
       "    <tr>\n",
       "      <th>4</th>\n",
       "      <td>{'Tau': 125.8925411794, 'Kappa': 21.8776162395...</td>\n",
       "      <td>[144, 67]</td>\n",
       "      <td>[[37, 19, 10, 15, 8, 5, 2, 1, 4, 17, 0, 0, 3, ...</td>\n",
       "      <td>0.0137</td>\n",
       "    </tr>\n",
       "    <tr>\n",
       "      <th>...</th>\n",
       "      <td>...</td>\n",
       "      <td>...</td>\n",
       "      <td>...</td>\n",
       "      <td>...</td>\n",
       "    </tr>\n",
       "    <tr>\n",
       "      <th>6395</th>\n",
       "      <td>{'Tau': 15.8489319246, 'Kappa': 0.0066069345, ...</td>\n",
       "      <td>[120, 100]</td>\n",
       "      <td>[[38, 16, 8, 5, 13, 3, 7, 8, 1, 1, 4, 1, 2, 0,...</td>\n",
       "      <td>0.0089</td>\n",
       "    </tr>\n",
       "    <tr>\n",
       "      <th>6396</th>\n",
       "      <td>{'Tau': 63.095734448, 'Kappa': 0.0239883292000...</td>\n",
       "      <td>[83, 95]</td>\n",
       "      <td>[[10, 21, 9, 4, 9, 5, 4, 0, 3, 2, 2, 1, 4, 3, ...</td>\n",
       "      <td>0.0192</td>\n",
       "    </tr>\n",
       "    <tr>\n",
       "      <th>6397</th>\n",
       "      <td>{'Tau': 1584.8931924611, 'Kappa': 79.432823472...</td>\n",
       "      <td>[123, 69]</td>\n",
       "      <td>[[33, 20, 22, 6, 3, 3, 8, 11, 1, 4, 2, 3, 0, 2...</td>\n",
       "      <td>0.0177</td>\n",
       "    </tr>\n",
       "    <tr>\n",
       "      <th>6398</th>\n",
       "      <td>{'Tau': 0.0006309573, 'Kappa': 0.034673685, 's...</td>\n",
       "      <td>[5, 6]</td>\n",
       "      <td>[[2, 0, 0, 2, 0, 0, 0, 0, 0, 0, 0, 0, 0, 0, 0,...</td>\n",
       "      <td>0.0040</td>\n",
       "    </tr>\n",
       "    <tr>\n",
       "      <th>6399</th>\n",
       "      <td>{'Tau': 0.0125892541, 'Kappa': 7.2443596007, '...</td>\n",
       "      <td>[748, 854]</td>\n",
       "      <td>[[148, 127, 50, 50, 50, 41, 34, 52, 36, 29, 25...</td>\n",
       "      <td>0.0726</td>\n",
       "    </tr>\n",
       "  </tbody>\n",
       "</table>\n",
       "<p>6400 rows × 4 columns</p>\n",
       "</div>"
      ],
      "text/plain": [
       "                                             Parameters        SNPs  \\\n",
       "0     {'Tau': 0.015848931900000002, 'Kappa': 0.10471...    [13, 20]   \n",
       "1     {'Tau': 0.0003981072, 'Kappa': 0.4570881896, '...    [48, 62]   \n",
       "2     {'Tau': 794.3282347243, 'Kappa': 38.0189396321...  [144, 108]   \n",
       "3     {'Tau': 251.188643151, 'Kappa': 0.1047128548, ...  [127, 107]   \n",
       "4     {'Tau': 125.8925411794, 'Kappa': 21.8776162395...   [144, 67]   \n",
       "...                                                 ...         ...   \n",
       "6395  {'Tau': 15.8489319246, 'Kappa': 0.0066069345, ...  [120, 100]   \n",
       "6396  {'Tau': 63.095734448, 'Kappa': 0.0239883292000...    [83, 95]   \n",
       "6397  {'Tau': 1584.8931924611, 'Kappa': 79.432823472...   [123, 69]   \n",
       "6398  {'Tau': 0.0006309573, 'Kappa': 0.034673685, 's...      [5, 6]   \n",
       "6399  {'Tau': 0.0125892541, 'Kappa': 7.2443596007, '...  [748, 854]   \n",
       "\n",
       "                                                    SFS    Time  \n",
       "0     [[7, 4, 2, 0, 0, 0, 0, 0, 0, 0, 0, 0, 0, 0, 0,...  0.0062  \n",
       "1     [[6, 6, 10, 1, 5, 5, 2, 4, 3, 4, 1, 0, 0, 1, 0...  0.0126  \n",
       "2     [[40, 9, 11, 18, 8, 9, 8, 3, 7, 0, 10, 9, 2, 2...  0.0211  \n",
       "3     [[38, 29, 17, 5, 5, 4, 2, 2, 0, 3, 0, 1, 0, 2,...  0.0202  \n",
       "4     [[37, 19, 10, 15, 8, 5, 2, 1, 4, 17, 0, 0, 3, ...  0.0137  \n",
       "...                                                 ...     ...  \n",
       "6395  [[38, 16, 8, 5, 13, 3, 7, 8, 1, 1, 4, 1, 2, 0,...  0.0089  \n",
       "6396  [[10, 21, 9, 4, 9, 5, 4, 0, 3, 2, 2, 1, 4, 3, ...  0.0192  \n",
       "6397  [[33, 20, 22, 6, 3, 3, 8, 11, 1, 4, 2, 3, 0, 2...  0.0177  \n",
       "6398  [[2, 0, 0, 2, 0, 0, 0, 0, 0, 0, 0, 0, 0, 0, 0,...  0.0040  \n",
       "6399  [[148, 127, 50, 50, 50, 41, 34, 52, 36, 29, 25...  0.0726  \n",
       "\n",
       "[6400 rows x 4 columns]"
      ]
     },
     "execution_count": 15,
     "metadata": {},
     "output_type": "execute_result"
    }
   ],
   "source": [
    "sfs_decline"
   ]
  },
  {
   "cell_type": "markdown",
   "id": "hungry-islam",
   "metadata": {},
   "source": [
    "<br>"
   ]
  },
  {
   "cell_type": "code",
   "execution_count": 16,
   "id": "young-backup",
   "metadata": {},
   "outputs": [],
   "source": [
    "# Compute log10 of kappa & tau\n",
    "sfs_decline['Tau'] = sfs_decline['Parameters'].apply(lambda ele: np.log10(ele['Tau']))\n",
    "sfs_decline['Kappa'] = sfs_decline['Parameters'].apply(lambda ele: np.log10(ele['Kappa']))\n",
    "\n",
    "# Compute mean of SNPs (then log10)\n",
    "sfs_decline['SNPs'] = sfs_decline['SNPs'].apply(lambda ele: np.log10(np.mean(ele)))"
   ]
  },
  {
   "cell_type": "code",
   "execution_count": 48,
   "id": "atmospheric-georgia",
   "metadata": {},
   "outputs": [],
   "source": [
    "sfs_decline = sfs_decline.drop(sfs_decline[sfs_decline['SNPs'] < -5].index)"
   ]
  },
  {
   "cell_type": "markdown",
   "id": "willing-accreditation",
   "metadata": {},
   "source": [
    "> Plot data"
   ]
  },
  {
   "cell_type": "code",
   "execution_count": 19,
   "id": "usual-leonard",
   "metadata": {},
   "outputs": [],
   "source": [
    "def snp_distribution_3d(data):\n",
    "    # Plot\n",
    "    sns.set_theme(style='whitegrid')\n",
    "\n",
    "    # Plot\n",
    "    fig = plt.figure()\n",
    "    ax = fig.add_subplot(111, projection='3d')\n",
    "    \n",
    "    ax.scatter(data['Tau'], data['Kappa'], data['SNPs'])\n",
    "    \n",
    "    # Label\n",
    "    ax.set_xlabel('Log10(Tau)')\n",
    "    ax.set_ylabel('Log10(Kappa)')\n",
    "    ax.set_zlabel('Log10(SNPs)')\n",
    "    \n",
    "    plt.show()"
   ]
  },
  {
   "cell_type": "code",
   "execution_count": 20,
   "id": "integrated-hello",
   "metadata": {},
   "outputs": [
    {
     "data": {
      "application/vnd.jupyter.widget-view+json": {
       "model_id": "e154279134e741e691b0add0a8c1f7bd",
       "version_major": 2,
       "version_minor": 0
      },
      "text/plain": [
       "Canvas(toolbar=Toolbar(toolitems=[('Home', 'Reset original view', 'home', 'home'), ('Back', 'Back to previous …"
      ]
     },
     "metadata": {},
     "output_type": "display_data"
    }
   ],
   "source": [
    "%matplotlib widget\n",
    "snp_distribution_3d(sfs_decline)"
   ]
  }
 ],
 "metadata": {
  "kernelspec": {
   "display_name": "Python 3",
   "language": "python",
   "name": "python3"
  },
  "language_info": {
   "codemirror_mode": {
    "name": "ipython",
    "version": 3
   },
   "file_extension": ".py",
   "mimetype": "text/x-python",
   "name": "python",
   "nbconvert_exporter": "python",
   "pygments_lexer": "ipython3",
   "version": "3.8.5"
  }
 },
 "nbformat": 4,
 "nbformat_minor": 5
}

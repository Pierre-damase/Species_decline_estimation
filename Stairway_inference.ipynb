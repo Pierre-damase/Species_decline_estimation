{
 "cells": [
  {
   "cell_type": "markdown",
   "id": "mature-klein",
   "metadata": {},
   "source": [
    "<div style=\"color:#8b1538; font-size:35px;\">Benchmark of stairway plot 2</div>"
   ]
  },
  {
   "cell_type": "code",
   "execution_count": 1,
   "id": "obvious-delhi",
   "metadata": {
    "tags": []
   },
   "outputs": [],
   "source": [
    "import ast\n",
    "import json\n",
    "import os\n",
    "\n",
    "import matplotlib.pyplot as plt\n",
    "import numpy as np\n",
    "import pandas as pd\n",
    "import seaborn as sns\n",
    "\n",
    "import sei.files.files as f\n",
    "import sei.graphics.plot as plot\n",
    "import sei.simulation.msprime as ms\n",
    "import sei.sei as sei"
   ]
  },
  {
   "cell_type": "markdown",
   "id": "played-scene",
   "metadata": {},
   "source": [
    "<br>"
   ]
  },
  {
   "cell_type": "markdown",
   "id": "conditional-government",
   "metadata": {},
   "source": [
    "# Stairway plot 2 inference"
   ]
  },
  {
   "cell_type": "markdown",
   "id": "violent-penalty",
   "metadata": {},
   "source": [
    "Problème avec stairway plot sur le cluster."
   ]
  },
  {
   "cell_type": "code",
   "execution_count": 6,
   "id": "israeli-socket",
   "metadata": {},
   "outputs": [
    {
     "data": {
      "text/plain": [
       "'stairway_decline-tau=-3.3_kappa=-3.1'"
      ]
     },
     "execution_count": 6,
     "metadata": {},
     "output_type": "execute_result"
    }
   ],
   "source": [
    "path = \"./sei/inference/stairway_plot_v2.1.1/\"\n",
    "fichiers = [fichier for fichier in os.listdir(path) if os.path.isdir(\"{}{}\".format(path, fichier)) \n",
    "            and fichier.split('-')[0] == 'stairway_decline']\n",
    "\n",
    "for fichier in fichiers:\n",
    "    stairway = pd.DataFrame(columns=['M0', 'M1', 'Ne', 'Year'])\n",
    "    \n",
    "    blueprint = \"{}{}/stairway_inference/\".format(path, fichier)\n",
    "    \n",
    "    # Extract data from the inference with stairway\n",
    "    dico = f.read_stairway_final(\"{}/final/\".format(blueprint))\n",
    "    dico.update(f.read_stairway_summary(\"{}/stairway_inference.final.summary\".format(blueprint)))\n",
    "    \n",
    "    # Keep track of parameters\n",
    "    tau = float(fichier.split('=')[1].split('_')[0])\n",
    "    kappa = float(fichier.split('=')[2])\n",
    "    dico['Parameters'] = {'Tau': np.power(10, tau), 'Kappa': np.power(10, kappa)}\n",
    "    \n",
    "    # Summarize the data of the inference\n",
    "    stairway = stairway.append(dico, ignore_index=True)\n",
    "    \n",
    "    # Convert pandas DataFrame data to json file\n",
    "    stairway.to_json(\"./sei/inference/stairway_plot_v2.1.1/{}-all\".format(fichier))\n",
    "    \n",
    "    # Remove file\n",
    "    os.system(\"rm -rf ./sei/inference/stairway_plot_v2.1.1/{}\".format(fichier))"
   ]
  },
  {
   "cell_type": "markdown",
   "id": "indie-yield",
   "metadata": {},
   "source": [
    "<br>"
   ]
  },
  {
   "cell_type": "markdown",
   "id": "focal-turning",
   "metadata": {},
   "source": [
    "### Constan population\n",
    "\n",
    "Stairway plot inference for some constant population with Ne = 1, Ne = 2, Ne = 10 & Ne = 100."
   ]
  },
  {
   "cell_type": "code",
   "execution_count": 2,
   "id": "psychological-piece",
   "metadata": {},
   "outputs": [],
   "source": [
    "def sfs_cst_pop():\n",
    "    # DataFrame\n",
    "    data = pd.DataFrame(columns=['Parameters', 'SNPs', 'SFS observed'])\n",
    "    \n",
    "    # Parameters for the simulation\n",
    "    params = {\"sample_size\": 20, \"Ne\": 0, \"rcb_rate\": 2e-2, \"mu\": 2e-2, \"length\": 1e5}\n",
    "    \n",
    "    for ne in [1, 2, 10]:\n",
    "        params['Ne'] = ne\n",
    "        \n",
    "        # Constant scenario\n",
    "        sfs = ms.msprime_simulation(model=ms.constant_model, params=params, debug=True)\n",
    "        \n",
    "        dico = {'Parameters': params.copy(), 'SNPs': [np.mean(sfs)], 'SFS observed': [sfs]}\n",
    "        data = data.append(dico, ignore_index=True)\n",
    "        \n",
    "    return data\n",
    "\n",
    "\n",
    "def inference_cst_pop(generate=False):\n",
    "    if generate:\n",
    "        data = sfs_cst_pop()\n",
    "        data.to_json(\"./Data/Msprime/cst/SFS-cst\")\n",
    "    else:\n",
    "        data = pd.read_json(\"./Data/Msprime/cst/SFS-cst\")\n",
    "        \n",
    "    return data"
   ]
  },
  {
   "cell_type": "code",
   "execution_count": 3,
   "id": "fundamental-external",
   "metadata": {},
   "outputs": [],
   "source": [
    "simulation = inference_cst_pop(generate=False)"
   ]
  },
  {
   "cell_type": "code",
   "execution_count": 4,
   "id": "otherwise-brave",
   "metadata": {},
   "outputs": [
    {
     "data": {
      "text/html": [
       "<div>\n",
       "<style scoped>\n",
       "    .dataframe tbody tr th:only-of-type {\n",
       "        vertical-align: middle;\n",
       "    }\n",
       "\n",
       "    .dataframe tbody tr th {\n",
       "        vertical-align: top;\n",
       "    }\n",
       "\n",
       "    .dataframe thead th {\n",
       "        text-align: right;\n",
       "    }\n",
       "</style>\n",
       "<table border=\"1\" class=\"dataframe\">\n",
       "  <thead>\n",
       "    <tr style=\"text-align: right;\">\n",
       "      <th></th>\n",
       "      <th>Parameters</th>\n",
       "      <th>SNPs</th>\n",
       "      <th>SFS observed</th>\n",
       "    </tr>\n",
       "  </thead>\n",
       "  <tbody>\n",
       "    <tr>\n",
       "      <th>0</th>\n",
       "      <td>{'sample_size': 20, 'Ne': 1, 'rcb_rate': 0.02,...</td>\n",
       "      <td>[1462.1578947368]</td>\n",
       "      <td>[[7471, 4056, 2625, 1957, 1514, 1294, 1165, 10...</td>\n",
       "    </tr>\n",
       "    <tr>\n",
       "      <th>1</th>\n",
       "      <td>{'sample_size': 20, 'Ne': 2, 'rcb_rate': 0.02,...</td>\n",
       "      <td>[2986.1052631579]</td>\n",
       "      <td>[[15996, 8189, 5265, 4084, 3094, 2723, 2093, 2...</td>\n",
       "    </tr>\n",
       "    <tr>\n",
       "      <th>2</th>\n",
       "      <td>{'sample_size': 20, 'Ne': 10, 'rcb_rate': 0.02...</td>\n",
       "      <td>[15017.8421052632]</td>\n",
       "      <td>[[80377, 40178, 26825, 20229, 16309, 13161, 11...</td>\n",
       "    </tr>\n",
       "  </tbody>\n",
       "</table>\n",
       "</div>"
      ],
      "text/plain": [
       "                                          Parameters                SNPs  \\\n",
       "0  {'sample_size': 20, 'Ne': 1, 'rcb_rate': 0.02,...   [1462.1578947368]   \n",
       "1  {'sample_size': 20, 'Ne': 2, 'rcb_rate': 0.02,...   [2986.1052631579]   \n",
       "2  {'sample_size': 20, 'Ne': 10, 'rcb_rate': 0.02...  [15017.8421052632]   \n",
       "\n",
       "                                        SFS observed  \n",
       "0  [[7471, 4056, 2625, 1957, 1514, 1294, 1165, 10...  \n",
       "1  [[15996, 8189, 5265, 4084, 3094, 2723, 2093, 2...  \n",
       "2  [[80377, 40178, 26825, 20229, 16309, 13161, 11...  "
      ]
     },
     "execution_count": 4,
     "metadata": {},
     "output_type": "execute_result"
    }
   ],
   "source": [
    "simulation"
   ]
  },
  {
   "cell_type": "code",
   "execution_count": 5,
   "id": "wicked-beverage",
   "metadata": {},
   "outputs": [],
   "source": [
    "%%capture\n",
    "\n",
    "for _, row in simulation.iterrows():\n",
    "    sei.save_stairway_inference(row, 'cst')\n",
    "    break"
   ]
  },
  {
   "cell_type": "markdown",
   "id": "stuffed-expert",
   "metadata": {},
   "source": [
    "<br>"
   ]
  },
  {
   "cell_type": "code",
   "execution_count": 6,
   "id": "detailed-lawrence",
   "metadata": {},
   "outputs": [],
   "source": [
    "data = pd.read_json(\"./Data/Msprime/decline/SFS_decline-all\")"
   ]
  },
  {
   "cell_type": "code",
   "execution_count": 75,
   "id": "choice-utility",
   "metadata": {},
   "outputs": [
    {
     "data": {
      "text/plain": [
       "Text(0.5, 1.0, \"{'Tau': 0.0006309573, 'Kappa': 794.3282347243}\")"
      ]
     },
     "execution_count": 75,
     "metadata": {},
     "output_type": "execute_result"
    },
    {
     "data": {
      "image/png": "[encoded data removed]",
      "text/plain": [
       "<Figure size 720x504 with 1 Axes>"
      ]
     },
     "metadata": {
      "needs_background": "light"
     },
     "output_type": "display_data"
    }
   ],
   "source": [
    "sfs = data.iloc[0]['SFS observed']\n",
    "new = np.array([sum(spectrum) for spectrum in zip(*sfs)]) / len(sfs)\n",
    "\n",
    "plt.figure(figsize=(10, 7))\n",
    "\n",
    "for spectrum in sfs:\n",
    "    plt.plot([ele/sum(spectrum) for ele in spectrum], color=\"grey\")\n",
    "plt.plot([ele/sum(new) for ele in new], color=\"red\")\n",
    "plt.title({k: v for k, v in data.iloc[0]['Parameters'].items() if k in ['Tau', 'Kappa']})"
   ]
  }
 ],
 "metadata": {
  "kernelspec": {
   "display_name": "Python 3",
   "language": "python",
   "name": "python3"
  },
  "language_info": {
   "codemirror_mode": {
    "name": "ipython",
    "version": 3
   },
   "file_extension": ".py",
   "mimetype": "text/x-python",
   "name": "python",
   "nbconvert_exporter": "python",
   "pygments_lexer": "ipython3",
   "version": "3.8.5"
  }
 },
 "nbformat": 4,
 "nbformat_minor": 5
}
